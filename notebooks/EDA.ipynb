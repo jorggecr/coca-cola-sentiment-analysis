{
 "cells": [
  {
   "cell_type": "code",
   "execution_count": 117,
   "id": "d14d330f",
   "metadata": {},
   "outputs": [],
   "source": [
    "import pandas as pd\n",
    "import numpy as np"
   ]
  },
  {
   "cell_type": "code",
   "execution_count": 132,
   "id": "93748027",
   "metadata": {},
   "outputs": [],
   "source": [
    "df = pd.read_csv('../data/processed/coca_cola.csv')"
   ]
  },
  {
   "cell_type": "code",
   "execution_count": 133,
   "id": "376fc84c",
   "metadata": {},
   "outputs": [
    {
     "data": {
      "text/html": [
       "<div>\n",
       "<style scoped>\n",
       "    .dataframe tbody tr th:only-of-type {\n",
       "        vertical-align: middle;\n",
       "    }\n",
       "\n",
       "    .dataframe tbody tr th {\n",
       "        vertical-align: top;\n",
       "    }\n",
       "\n",
       "    .dataframe thead th {\n",
       "        text-align: right;\n",
       "    }\n",
       "</style>\n",
       "<table border=\"1\" class=\"dataframe\">\n",
       "  <thead>\n",
       "    <tr style=\"text-align: right;\">\n",
       "      <th></th>\n",
       "      <th>video_id</th>\n",
       "      <th>video_title</th>\n",
       "      <th>video_link</th>\n",
       "      <th>video_views</th>\n",
       "      <th>publish_video_year</th>\n",
       "      <th>video_title_language</th>\n",
       "      <th>author_comment</th>\n",
       "      <th>comment</th>\n",
       "      <th>likes_comment</th>\n",
       "      <th>sentiment_comment</th>\n",
       "      <th>confidence_score</th>\n",
       "    </tr>\n",
       "  </thead>\n",
       "  <tbody>\n",
       "    <tr>\n",
       "      <th>0</th>\n",
       "      <td>l9r673GbR8k</td>\n",
       "      <td>SHOW DE LUCES CON DRONES DE INTEL EN  LA CARAV...</td>\n",
       "      <td>https://www.youtube.com/watch?v=l9r673GbR8k</td>\n",
       "      <td>7853189</td>\n",
       "      <td>2016</td>\n",
       "      <td>en</td>\n",
       "      <td>@angiielozz9118</td>\n",
       "      <td>Fue genial</td>\n",
       "      <td>0</td>\n",
       "      <td>neutral</td>\n",
       "      <td>0.645249</td>\n",
       "    </tr>\n",
       "    <tr>\n",
       "      <th>1</th>\n",
       "      <td>l9r673GbR8k</td>\n",
       "      <td>SHOW DE LUCES CON DRONES DE INTEL EN  LA CARAV...</td>\n",
       "      <td>https://www.youtube.com/watch?v=l9r673GbR8k</td>\n",
       "      <td>7853189</td>\n",
       "      <td>2016</td>\n",
       "      <td>en</td>\n",
       "      <td>@EMILY-kp1cg</td>\n",
       "      <td>...........\"...,,,,',,,,,,,,,</td>\n",
       "      <td>0</td>\n",
       "      <td>neutral</td>\n",
       "      <td>0.691250</td>\n",
       "    </tr>\n",
       "  </tbody>\n",
       "</table>\n",
       "</div>"
      ],
      "text/plain": [
       "      video_id                                        video_title  \\\n",
       "0  l9r673GbR8k  SHOW DE LUCES CON DRONES DE INTEL EN  LA CARAV...   \n",
       "1  l9r673GbR8k  SHOW DE LUCES CON DRONES DE INTEL EN  LA CARAV...   \n",
       "\n",
       "                                    video_link  video_views  \\\n",
       "0  https://www.youtube.com/watch?v=l9r673GbR8k      7853189   \n",
       "1  https://www.youtube.com/watch?v=l9r673GbR8k      7853189   \n",
       "\n",
       "   publish_video_year video_title_language   author_comment  \\\n",
       "0                2016                   en  @angiielozz9118   \n",
       "1                2016                   en     @EMILY-kp1cg   \n",
       "\n",
       "                         comment  likes_comment sentiment_comment  \\\n",
       "0                     Fue genial              0           neutral   \n",
       "1  ...........\"...,,,,',,,,,,,,,              0           neutral   \n",
       "\n",
       "   confidence_score  \n",
       "0          0.645249  \n",
       "1          0.691250  "
      ]
     },
     "execution_count": 133,
     "metadata": {},
     "output_type": "execute_result"
    }
   ],
   "source": [
    "df.head(2)"
   ]
  }
 ],
 "metadata": {
  "language_info": {
   "name": "python"
  }
 },
 "nbformat": 4,
 "nbformat_minor": 5
}
