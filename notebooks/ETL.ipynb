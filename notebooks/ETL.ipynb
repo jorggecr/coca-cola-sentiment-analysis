{
 "cells": [
  {
   "cell_type": "code",
   "execution_count": 22,
   "id": "3c1daefa",
   "metadata": {},
   "outputs": [],
   "source": [
    "import pandas as pd\n",
    "import numpy as np"
   ]
  },
  {
   "cell_type": "code",
   "execution_count": 23,
   "id": "54281222",
   "metadata": {},
   "outputs": [],
   "source": [
    "# Upload files\n",
    "commercials = pd.read_csv(\"../data/raw/commercials.csv\")\n",
    "comments = pd.read_csv(\"../data/raw/comments.csv\")\n",
    "sentiments = pd.read_csv(\"../data/processed/sentiment.csv\")"
   ]
  },
  {
   "cell_type": "code",
   "execution_count": 24,
   "id": "1dca0d4e",
   "metadata": {},
   "outputs": [
    {
     "name": "stdout",
     "output_type": "stream",
     "text": [
      "Shape of the commercials file:  (159, 8)\n",
      "Shape of the comments file:  (4836, 6)\n",
      "Shape of the sentiments file:  (4836, 6)\n"
     ]
    }
   ],
   "source": [
    "# Check for shape in files\n",
    "print(\"Shape of the commercials file: \", commercials.shape)\n",
    "print(\"Shape of the comments file: \", comments.shape)\n",
    "print(\"Shape of the sentiments file: \", comments.shape)"
   ]
  },
  {
   "cell_type": "code",
   "execution_count": 25,
   "id": "845d35c5",
   "metadata": {},
   "outputs": [
    {
     "name": "stdout",
     "output_type": "stream",
     "text": [
      "Duplicate pairs in file commercial: 0\n",
      "Duplicate pairs in file comments: 0\n",
      "Duplicate pairs in file comments: 0\n"
     ]
    }
   ],
   "source": [
    "# Check for duplicate pairs in files\n",
    "duplicate_commercials = commercials.duplicated(subset=['video_id', 'video_title', 'views', 'year']) \n",
    "print(\"Duplicate pairs in file commercial:\", duplicate_commercials.sum())\n",
    "\n",
    "duplicate_comments = comments.duplicated(subset=['video_id', 'video_title', 'link','author', 'text'])\n",
    "print(\"Duplicate pairs in file comments:\", duplicate_comments.sum())\n",
    "\n",
    "duplicate_sentiments = sentiments.duplicated(subset=['video_id', 'video_title', 'link', 'author', 'text'])\n",
    "print(\"Duplicate pairs in file comments:\", duplicate_sentiments.sum())\n"
   ]
  },
  {
   "cell_type": "markdown",
   "id": "bfcbbf41",
   "metadata": {},
   "source": [
    "Make the necessary joins to create the final working df"
   ]
  },
  {
   "cell_type": "code",
   "execution_count": 26,
   "id": "0833e70c",
   "metadata": {},
   "outputs": [
    {
     "data": {
      "text/html": [
       "<div>\n",
       "<style scoped>\n",
       "    .dataframe tbody tr th:only-of-type {\n",
       "        vertical-align: middle;\n",
       "    }\n",
       "\n",
       "    .dataframe tbody tr th {\n",
       "        vertical-align: top;\n",
       "    }\n",
       "\n",
       "    .dataframe thead th {\n",
       "        text-align: right;\n",
       "    }\n",
       "</style>\n",
       "<table border=\"1\" class=\"dataframe\">\n",
       "  <thead>\n",
       "    <tr style=\"text-align: right;\">\n",
       "      <th></th>\n",
       "      <th>video_id</th>\n",
       "      <th>video_title</th>\n",
       "      <th>link</th>\n",
       "      <th>author</th>\n",
       "      <th>text</th>\n",
       "      <th>likes</th>\n",
       "      <th>views</th>\n",
       "      <th>year</th>\n",
       "      <th>language_detected</th>\n",
       "    </tr>\n",
       "  </thead>\n",
       "  <tbody>\n",
       "    <tr>\n",
       "      <th>0</th>\n",
       "      <td>l9r673GbR8k</td>\n",
       "      <td>SHOW DE LUCES CON DRONES DE INTEL EN  LA CARAV...</td>\n",
       "      <td>https://www.youtube.com/watch?v=l9r673GbR8k</td>\n",
       "      <td>@angiielozz9118</td>\n",
       "      <td>Fue genial</td>\n",
       "      <td>0</td>\n",
       "      <td>7853189</td>\n",
       "      <td>2016</td>\n",
       "      <td>en</td>\n",
       "    </tr>\n",
       "    <tr>\n",
       "      <th>1</th>\n",
       "      <td>l9r673GbR8k</td>\n",
       "      <td>SHOW DE LUCES CON DRONES DE INTEL EN  LA CARAV...</td>\n",
       "      <td>https://www.youtube.com/watch?v=l9r673GbR8k</td>\n",
       "      <td>@EMILY-kp1cg</td>\n",
       "      <td>...........\"...,,,,',,,,,,,,,</td>\n",
       "      <td>0</td>\n",
       "      <td>7853189</td>\n",
       "      <td>2016</td>\n",
       "      <td>en</td>\n",
       "    </tr>\n",
       "  </tbody>\n",
       "</table>\n",
       "</div>"
      ],
      "text/plain": [
       "      video_id                                        video_title  \\\n",
       "0  l9r673GbR8k  SHOW DE LUCES CON DRONES DE INTEL EN  LA CARAV...   \n",
       "1  l9r673GbR8k  SHOW DE LUCES CON DRONES DE INTEL EN  LA CARAV...   \n",
       "\n",
       "                                          link           author  \\\n",
       "0  https://www.youtube.com/watch?v=l9r673GbR8k  @angiielozz9118   \n",
       "1  https://www.youtube.com/watch?v=l9r673GbR8k     @EMILY-kp1cg   \n",
       "\n",
       "                            text  likes    views  year language_detected  \n",
       "0                     Fue genial      0  7853189  2016                en  \n",
       "1  ...........\"...,,,,',,,,,,,,,      0  7853189  2016                en  "
      ]
     },
     "execution_count": 26,
     "metadata": {},
     "output_type": "execute_result"
    }
   ],
   "source": [
    "# Join the commercial DataFrame of the commercial with the languaje detected in comments DataFrame\n",
    " \n",
    "comments['video_id'] = comments['video_id'].astype(str)\n",
    "commercials['video_id'] = commercials['video_id'].astype(str)\n",
    "\n",
    "comments_language = comments.merge(commercials[['video_id', 'views', 'year', 'link', 'language_detected']],on=['video_id', 'link'],how='left')\n",
    "comments_language.head(2)"
   ]
  },
  {
   "cell_type": "code",
   "execution_count": 27,
   "id": "6ce43a90",
   "metadata": {},
   "outputs": [
    {
     "data": {
      "text/html": [
       "<div>\n",
       "<style scoped>\n",
       "    .dataframe tbody tr th:only-of-type {\n",
       "        vertical-align: middle;\n",
       "    }\n",
       "\n",
       "    .dataframe tbody tr th {\n",
       "        vertical-align: top;\n",
       "    }\n",
       "\n",
       "    .dataframe thead th {\n",
       "        text-align: right;\n",
       "    }\n",
       "</style>\n",
       "<table border=\"1\" class=\"dataframe\">\n",
       "  <thead>\n",
       "    <tr style=\"text-align: right;\">\n",
       "      <th></th>\n",
       "      <th>video_id</th>\n",
       "      <th>video_title</th>\n",
       "      <th>link</th>\n",
       "      <th>author</th>\n",
       "      <th>text</th>\n",
       "      <th>likes</th>\n",
       "      <th>views</th>\n",
       "      <th>year</th>\n",
       "      <th>language_detected</th>\n",
       "      <th>sentiment</th>\n",
       "      <th>confidence_score</th>\n",
       "    </tr>\n",
       "  </thead>\n",
       "  <tbody>\n",
       "    <tr>\n",
       "      <th>0</th>\n",
       "      <td>l9r673GbR8k</td>\n",
       "      <td>SHOW DE LUCES CON DRONES DE INTEL EN  LA CARAV...</td>\n",
       "      <td>https://www.youtube.com/watch?v=l9r673GbR8k</td>\n",
       "      <td>@angiielozz9118</td>\n",
       "      <td>Fue genial</td>\n",
       "      <td>0</td>\n",
       "      <td>7853189</td>\n",
       "      <td>2016</td>\n",
       "      <td>en</td>\n",
       "      <td>neutral</td>\n",
       "      <td>0.645249</td>\n",
       "    </tr>\n",
       "  </tbody>\n",
       "</table>\n",
       "</div>"
      ],
      "text/plain": [
       "      video_id                                        video_title  \\\n",
       "0  l9r673GbR8k  SHOW DE LUCES CON DRONES DE INTEL EN  LA CARAV...   \n",
       "\n",
       "                                          link           author        text  \\\n",
       "0  https://www.youtube.com/watch?v=l9r673GbR8k  @angiielozz9118  Fue genial   \n",
       "\n",
       "   likes    views  year language_detected sentiment  confidence_score  \n",
       "0      0  7853189  2016                en   neutral          0.645249  "
      ]
     },
     "execution_count": 27,
     "metadata": {},
     "output_type": "execute_result"
    }
   ],
   "source": [
    "# Merge the sentiments DataFrame of the comment analysis with the results of the previous merge DataFrame\n",
    "comments_language_sentiments = comments_language.merge( sentiments[['video_id', 'video_title', 'link', 'author', 'text', 'sentiment', 'confidence_score']], on=['video_id', 'video_title', 'link', 'author','text'], how='left')\n",
    "comments_language_sentiments.head(1)"
   ]
  },
  {
   "cell_type": "code",
   "execution_count": 28,
   "id": "0847a48e",
   "metadata": {},
   "outputs": [
    {
     "name": "stdout",
     "output_type": "stream",
     "text": [
      "Shape of the comments_language:  (4836, 9)\n",
      "Shape of the comments_language_sentiments:  (4836, 11)\n"
     ]
    }
   ],
   "source": [
    "print(\"Shape of the comments_language: \", comments_language.shape)\n",
    "print(\"Shape of the comments_language_sentiments: \", comments_language_sentiments.shape)"
   ]
  },
  {
   "cell_type": "code",
   "execution_count": 29,
   "id": "db2b2515",
   "metadata": {},
   "outputs": [
    {
     "name": "stdout",
     "output_type": "stream",
     "text": [
      "Duplicate pairs in df comments_language: 0\n",
      "Duplicate pairs in df comments_language_sentiments: 0\n"
     ]
    }
   ],
   "source": [
    "duplicate_comments_language = comments_language.duplicated(subset=['video_id', 'video_title', 'link', 'author', 'text'])\n",
    "print(\"Duplicate pairs in df comments_language:\", duplicate_comments_language.sum())\n",
    "\n",
    "duplicate_comments_language_sentiments = comments_language_sentiments.duplicated(subset=['video_id', 'video_title', 'link', 'author', 'text'])\n",
    "print(\"Duplicate pairs in df comments_language_sentiments:\", duplicate_comments_language_sentiments.sum())"
   ]
  },
  {
   "cell_type": "code",
   "execution_count": 30,
   "id": "5846e805",
   "metadata": {},
   "outputs": [],
   "source": [
    "# The final DataFrame with comments, language, and sentiment analysis is assigned to the main variable 'df' for further use\n",
    "df = comments_language_sentiments"
   ]
  },
  {
   "cell_type": "code",
   "execution_count": 31,
   "id": "13c3dd67",
   "metadata": {},
   "outputs": [
    {
     "data": {
      "text/plain": [
       "video_id       54\n",
       "video_title    52\n",
       "dtype: int64"
      ]
     },
     "execution_count": 31,
     "metadata": {},
     "output_type": "execute_result"
    }
   ],
   "source": [
    "# Counts how many video titles and unique IDs there are in the DataFrame, to analyze the diversity of the data.\n",
    "df[['video_id', 'video_title']].nunique()\n",
    "# Count how many unique video IDs (54) and titles (52) there are in the DataFrame.\n",
    "# This suggests that some IDs may share the same title or have been duplicated."
   ]
  },
  {
   "cell_type": "code",
   "execution_count": 32,
   "id": "0d16d81b",
   "metadata": {},
   "outputs": [
    {
     "data": {
      "text/html": [
       "<div>\n",
       "<style scoped>\n",
       "    .dataframe tbody tr th:only-of-type {\n",
       "        vertical-align: middle;\n",
       "    }\n",
       "\n",
       "    .dataframe tbody tr th {\n",
       "        vertical-align: top;\n",
       "    }\n",
       "\n",
       "    .dataframe thead th {\n",
       "        text-align: right;\n",
       "    }\n",
       "</style>\n",
       "<table border=\"1\" class=\"dataframe\">\n",
       "  <thead>\n",
       "    <tr style=\"text-align: right;\">\n",
       "      <th></th>\n",
       "      <th>video_id</th>\n",
       "      <th>video_title</th>\n",
       "      <th>link</th>\n",
       "      <th>views</th>\n",
       "      <th>year</th>\n",
       "    </tr>\n",
       "  </thead>\n",
       "  <tbody>\n",
       "    <tr>\n",
       "      <th>3991</th>\n",
       "      <td>Kt5rE0JnlUA</td>\n",
       "      <td>Coca-Cola® Obra de Arte</td>\n",
       "      <td>https://www.youtube.com/watch?v=Kt5rE0JnlUA</td>\n",
       "      <td>8706903</td>\n",
       "      <td>2023</td>\n",
       "    </tr>\n",
       "    <tr>\n",
       "      <th>4175</th>\n",
       "      <td>kXtupr6dlCI</td>\n",
       "      <td>Coca-Cola® Obra de Arte</td>\n",
       "      <td>https://www.youtube.com/watch?v=kXtupr6dlCI</td>\n",
       "      <td>5823569</td>\n",
       "      <td>2023</td>\n",
       "    </tr>\n",
       "    <tr>\n",
       "      <th>2045</th>\n",
       "      <td>47m0I4uU5mw</td>\n",
       "      <td>Öyle ya da böyle, muhteşem Coca-Cola tadıyla y...</td>\n",
       "      <td>https://www.youtube.com/watch?v=47m0I4uU5mw</td>\n",
       "      <td>5478973</td>\n",
       "      <td>2018</td>\n",
       "    </tr>\n",
       "    <tr>\n",
       "      <th>2145</th>\n",
       "      <td>fnFKMxxZYTs</td>\n",
       "      <td>Öyle ya da böyle, muhteşem Coca-Cola tadıyla y...</td>\n",
       "      <td>https://www.youtube.com/watch?v=fnFKMxxZYTs</td>\n",
       "      <td>5460168</td>\n",
       "      <td>2018</td>\n",
       "    </tr>\n",
       "  </tbody>\n",
       "</table>\n",
       "</div>"
      ],
      "text/plain": [
       "         video_id                                        video_title  \\\n",
       "3991  Kt5rE0JnlUA                            Coca-Cola® Obra de Arte   \n",
       "4175  kXtupr6dlCI                            Coca-Cola® Obra de Arte   \n",
       "2045  47m0I4uU5mw  Öyle ya da böyle, muhteşem Coca-Cola tadıyla y...   \n",
       "2145  fnFKMxxZYTs  Öyle ya da böyle, muhteşem Coca-Cola tadıyla y...   \n",
       "\n",
       "                                             link    views  year  \n",
       "3991  https://www.youtube.com/watch?v=Kt5rE0JnlUA  8706903  2023  \n",
       "4175  https://www.youtube.com/watch?v=kXtupr6dlCI  5823569  2023  \n",
       "2045  https://www.youtube.com/watch?v=47m0I4uU5mw  5478973  2018  \n",
       "2145  https://www.youtube.com/watch?v=fnFKMxxZYTs  5460168  2018  "
      ]
     },
     "execution_count": 32,
     "metadata": {},
     "output_type": "execute_result"
    }
   ],
   "source": [
    "# Video titles associated with multiple video IDs (potential duplicates) are detected.\n",
    "# Unique combinations of title, ID, link, and number of comments are then filtered and displayed to check for duplicates.\n",
    "\n",
    "df['video_id'] =df['video_id'].astype(str)\n",
    "duplicate = comments_language.groupby('video_title')['video_id'].nunique()\n",
    "duplicate_titles = duplicate[duplicate > 1].index\n",
    "df_duplicate =df[df['video_title'].isin(duplicate_titles)]\n",
    "results = df_duplicate[['video_id', 'video_title', 'link', 'views', 'year', ]].drop_duplicates().sort_values('video_title')\n",
    "results"
   ]
  },
  {
   "cell_type": "markdown",
   "id": "363289c4",
   "metadata": {},
   "source": [
    "When filtering and displaying unique combinations, we see cases like:\n",
    "- \"Coca-Cola® Obra de Arte\" and \"Öyle ya da böyle...\" which have different video_ids but share the same title,\n",
    "- This could be due to re-releases, regional versions, or upload errors. <n>\n",
    "\n",
    "To do this, each URL will be reviewed, as there are only four in this case, to manually determine if there is any discrepancy. Criteria for discarding the URLs will be determined later."
   ]
  },
  {
   "cell_type": "code",
   "execution_count": 33,
   "id": "b439c51d",
   "metadata": {},
   "outputs": [],
   "source": [
    "# List of video IDs that share a title with another video.\n",
    "video_ids = [\n",
    "    'Kt5rE0JnlUA',  # Coca-Cola® Obra de Arte\n",
    "    'kXtupr6dlCI',  # Coca-Cola® Obra de Arte\n",
    "    '47m0I4uU5mw',  # Öyle ya da böyle, muhteşem Coca-Cola tadıyla y...\n",
    "    'fnFKMxxZYTs'   # Öyle ya da böyle, muhteşem Coca-Cola tadıyla y...\n",
    "]\n",
    "# This will be used to specifically analyze or handle these duplicate cases."
   ]
  },
  {
   "cell_type": "markdown",
   "id": "3a39da2d",
   "metadata": {},
   "source": [
    "The yt_dlp library is used to obtain additional details (length and publication date) for duplicate videos without having to download them. This helps compare versions and decide which to keep or highlight."
   ]
  },
  {
   "cell_type": "code",
   "execution_count": 34,
   "id": "bd7dce2c",
   "metadata": {},
   "outputs": [
    {
     "name": "stderr",
     "output_type": "stream",
     "text": [
      "WARNING: ffmpeg not found. The downloaded format may not be the best available. Installing ffmpeg is strongly recommended: https://github.com/yt-dlp/yt-dlp#dependencies\n",
      "WARNING: ffmpeg not found. The downloaded format may not be the best available. Installing ffmpeg is strongly recommended: https://github.com/yt-dlp/yt-dlp#dependencies\n",
      "WARNING: ffmpeg not found. The downloaded format may not be the best available. Installing ffmpeg is strongly recommended: https://github.com/yt-dlp/yt-dlp#dependencies\n",
      "WARNING: ffmpeg not found. The downloaded format may not be the best available. Installing ffmpeg is strongly recommended: https://github.com/yt-dlp/yt-dlp#dependencies\n"
     ]
    }
   ],
   "source": [
    "import yt_dlp\n",
    "\n",
    "ydl_opts = {\n",
    "    'quiet': True,  # To avoid printing too much information\n",
    "    'force_generic_extractor': True,  # Use a generic extractor\n",
    "    'extract_flat': True,  # Only get metadata without downloading the video\n",
    "}\n",
    "\n",
    "# Function to get video duration and publish date\n",
    "def get_video_details(video_id):\n",
    "    with yt_dlp.YoutubeDL(ydl_opts) as ydl:\n",
    "        video_info = ydl.extract_info(f\"https://www.youtube.com/watch?v={video_id}\", download=False)\n",
    "        duration = video_info.get('duration', 0)  # Duration in seconds\n",
    "        publish_date = video_info.get('upload_date', 'N/A')  # Publish date (YYYYMMDD)\n",
    "        \n",
    "        # Convert duration to hours:minutes:seconds format\n",
    "        duration_hms = f\"{duration // 3600}:{(duration % 3600) // 60}:{duration % 60}\"\n",
    "        \n",
    "        return {\n",
    "            \"video_id\": video_id,\n",
    "            \"duration_hms\": duration_hms,\n",
    "            \"publish_date\": publish_date\n",
    "        }\n",
    "video_details = [get_video_details(video_id) for video_id in video_ids]"
   ]
  },
  {
   "cell_type": "code",
   "execution_count": 35,
   "id": "98c0e9e7",
   "metadata": {},
   "outputs": [
    {
     "data": {
      "text/html": [
       "<div>\n",
       "<style scoped>\n",
       "    .dataframe tbody tr th:only-of-type {\n",
       "        vertical-align: middle;\n",
       "    }\n",
       "\n",
       "    .dataframe tbody tr th {\n",
       "        vertical-align: top;\n",
       "    }\n",
       "\n",
       "    .dataframe thead th {\n",
       "        text-align: right;\n",
       "    }\n",
       "</style>\n",
       "<table border=\"1\" class=\"dataframe\">\n",
       "  <thead>\n",
       "    <tr style=\"text-align: right;\">\n",
       "      <th></th>\n",
       "      <th>video_id</th>\n",
       "      <th>duration_hms</th>\n",
       "      <th>publish_date</th>\n",
       "    </tr>\n",
       "  </thead>\n",
       "  <tbody>\n",
       "    <tr>\n",
       "      <th>0</th>\n",
       "      <td>Kt5rE0JnlUA</td>\n",
       "      <td>0:0:30</td>\n",
       "      <td>20230307</td>\n",
       "    </tr>\n",
       "    <tr>\n",
       "      <th>1</th>\n",
       "      <td>kXtupr6dlCI</td>\n",
       "      <td>0:1:52</td>\n",
       "      <td>20230307</td>\n",
       "    </tr>\n",
       "    <tr>\n",
       "      <th>2</th>\n",
       "      <td>47m0I4uU5mw</td>\n",
       "      <td>0:0:21</td>\n",
       "      <td>20181023</td>\n",
       "    </tr>\n",
       "    <tr>\n",
       "      <th>3</th>\n",
       "      <td>fnFKMxxZYTs</td>\n",
       "      <td>0:0:47</td>\n",
       "      <td>20180927</td>\n",
       "    </tr>\n",
       "  </tbody>\n",
       "</table>\n",
       "</div>"
      ],
      "text/plain": [
       "      video_id duration_hms publish_date\n",
       "0  Kt5rE0JnlUA       0:0:30     20230307\n",
       "1  kXtupr6dlCI       0:1:52     20230307\n",
       "2  47m0I4uU5mw       0:0:21     20181023\n",
       "3  fnFKMxxZYTs       0:0:47     20180927"
      ]
     },
     "execution_count": 35,
     "metadata": {},
     "output_type": "execute_result"
    }
   ],
   "source": [
    "df_detals = pd.DataFrame(video_details)\n",
    "df_detals"
   ]
  },
  {
   "cell_type": "markdown",
   "id": "0a3d6498",
   "metadata": {},
   "source": [
    "Key details were obtained from the duplicate videos:\n",
    "- They all share the same publication date or are very close in date. This could mean that one is the full version and the other is a short/advertised version released around the same time.\n",
    "- The only differences observed are their length:\n",
    "- For example: \"Coca-Cola® Obra de Arte\" has 30-second and 1:52-second versions.\n",
    "- For example: \"Öyle ya da böyle...\" has 21-second and 47-second versions.\n",
    "\n",
    "Therefore, we will continue to retain both videos, as they both meet the criteria established at the beginning of 5M+ views and 50+ comments. They will only be tagged \"(Short Version)\" <n> \n",
    "\n",
    "id: 'Kt5rE0JnlUA', '47m0I4uU5mw'."
   ]
  },
  {
   "cell_type": "code",
   "execution_count": 36,
   "id": "d4d42a84",
   "metadata": {},
   "outputs": [],
   "source": [
    "# List of video IDs you want to modify the title for\n",
    "ids_to_modify = ['Kt5rE0JnlUA', '47m0I4uU5mw']\n",
    "df.loc[df['video_id'].isin(ids_to_modify), 'video_title'] += ' (Short Version)'"
   ]
  },
  {
   "cell_type": "code",
   "execution_count": 37,
   "id": "dedf74ac",
   "metadata": {},
   "outputs": [
    {
     "data": {
      "text/plain": [
       "video_id       54\n",
       "video_title    54\n",
       "dtype: int64"
      ]
     },
     "execution_count": 37,
     "metadata": {},
     "output_type": "execute_result"
    }
   ],
   "source": [
    "# The number of unique video IDs and titles in the DataFrame is counted again\n",
    "df[['video_id', 'video_title']].nunique() \n",
    "# The results show that there are 54 titles and 54 unique IDs, indicating no additional duplicates in the titles"
   ]
  },
  {
   "cell_type": "code",
   "execution_count": 61,
   "id": "95abfbe8",
   "metadata": {},
   "outputs": [],
   "source": [
    "df_final = df.rename(columns={\n",
    "    'text': 'comment',\n",
    "    'author': 'author_comment',\n",
    "    'link': 'video_link',\n",
    "    'views': 'video_views',\n",
    "    'year': 'publish_video_year',\n",
    "    'likes': 'likes_comment',\n",
    "    'language_detected': 'video_title_language',\n",
    "    'sentiment' : 'sentiment_comment'\n",
    "})\n",
    "\n",
    "# # Convert column data types\n",
    "df_final = df_final.astype({\n",
    "    'video_id': 'string',\n",
    "    'video_title': 'string',\n",
    "    'video_link': 'string',\n",
    "    'author_comment': 'string',\n",
    "    'comment': 'string',\n",
    "    'likes_comment': 'int',\n",
    "    'video_views': 'int',\n",
    "    'publish_video_year': 'int',\n",
    "    'video_title_language': 'string',\n",
    "    'sentiment_comment': 'string',\n",
    "    'confidence_score': 'float'\n",
    "})\n",
    "\n",
    "# Sort Columns\n",
    "df_final = df_final[\n",
    "    [\n",
    "        'video_id',\n",
    "        'video_title',\n",
    "        'video_link',\n",
    "        'video_views',\n",
    "        'publish_video_year',\n",
    "        'video_title_language',\n",
    "        'author_comment',\n",
    "        'comment',\n",
    "        'likes_comment',\n",
    "        'sentiment_comment',\n",
    "        'confidence_score'\n",
    "    ]\n",
    "]"
   ]
  },
  {
   "cell_type": "markdown",
   "id": "a63a49b6",
   "metadata": {},
   "source": [
    "We adjust everything to load the final file."
   ]
  },
  {
   "cell_type": "code",
   "execution_count": 62,
   "id": "edef752a",
   "metadata": {},
   "outputs": [],
   "source": [
    "import os\n",
    "\n",
    "output_path = \"../data/processed/coca_cola.csv\"\n",
    "\n",
    "# Delete if exists\n",
    "if os.path.isfile(output_path):\n",
    "    os.remove(output_path)\n",
    "\n",
    "df_final.to_csv(output_path, index=False, encoding='utf-8-sig')"
   ]
  }
 ],
 "metadata": {
  "kernelspec": {
   "display_name": "cocacolavenv",
   "language": "python",
   "name": "python3"
  },
  "language_info": {
   "codemirror_mode": {
    "name": "ipython",
    "version": 3
   },
   "file_extension": ".py",
   "mimetype": "text/x-python",
   "name": "python",
   "nbconvert_exporter": "python",
   "pygments_lexer": "ipython3",
   "version": "3.11.9"
  }
 },
 "nbformat": 4,
 "nbformat_minor": 5
}
